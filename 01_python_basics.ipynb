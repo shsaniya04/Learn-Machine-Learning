{
 "cells": [
  {
   "cell_type": "code",
   "execution_count": 67,
   "metadata": {},
   "outputs": [
    {
     "name": "stdout",
     "output_type": "stream",
     "text": [
      "19\n",
      "Saniya\n",
      "9.999\n"
     ]
    }
   ],
   "source": [
    "# Variables\n",
    "name = \"Saniya\" \n",
    "age = 19\n",
    "fl = 9.999\n",
    "print(age)\n",
    "print(name)\n",
    "print(fl)"
   ]
  },
  {
   "cell_type": "code",
   "execution_count": 68,
   "metadata": {},
   "outputs": [],
   "source": [
    "# Numeric Data Types\n",
    "# Integer\n",
    "a = 10  \n",
    "# Float\n",
    "b = 20.5  \n",
    "# Complex Number\n",
    "c = 3 + 4j"
   ]
  },
  {
   "cell_type": "code",
   "execution_count": 69,
   "metadata": {},
   "outputs": [
    {
     "name": "stdout",
     "output_type": "stream",
     "text": [
      "Hello, Python!\n",
      "H\n",
      "!\n",
      "Hello\n",
      "HELLO, PYTHON!\n",
      "hello, python!\n"
     ]
    }
   ],
   "source": [
    "# String Data Type\n",
    "text = \"Hello, Python!\"\n",
    "print(text)\n",
    "print(text[0])\n",
    "print(text[-1])\n",
    "print(text[0:5])\n",
    "print(text.upper())\n",
    "print(text.lower())"
   ]
  },
  {
   "cell_type": "code",
   "execution_count": 70,
   "metadata": {},
   "outputs": [
    {
     "name": "stdout",
     "output_type": "stream",
     "text": [
      "<class 'bool'>\n",
      "True\n",
      "False\n"
     ]
    }
   ],
   "source": [
    "# Boolean Type\n",
    "is_valid = True\n",
    "is_invalid = False\n",
    "print(type(is_valid))\n",
    "print(5 > 3)\n",
    "print(5 < 3)"
   ]
  },
  {
   "cell_type": "code",
   "execution_count": 71,
   "metadata": {},
   "outputs": [
    {
     "name": "stdout",
     "output_type": "stream",
     "text": [
      "Banana\n",
      "['Apple', 'Banana', 'Cherry', 'Orange']\n"
     ]
    }
   ],
   "source": [
    "# List (Mutable Ordered Collection)\n",
    "fruits = [\"Apple\", \"Banana\", \"Cherry\"]\n",
    "print(fruits[1])   \n",
    "fruits.append(\"Orange\")\n",
    "print(fruits)       "
   ]
  },
  {
   "cell_type": "code",
   "execution_count": 72,
   "metadata": {},
   "outputs": [
    {
     "name": "stdout",
     "output_type": "stream",
     "text": [
      "('Red', 'Green', 'Blue')\n",
      "Red\n"
     ]
    }
   ],
   "source": [
    "# Tuple (Immutable Ordered Collection)\n",
    "colors = (\"Red\", \"Green\", \"Blue\")\n",
    "print(colors)\n",
    "print(colors[0])"
   ]
  },
  {
   "cell_type": "code",
   "execution_count": 73,
   "metadata": {},
   "outputs": [
    {
     "name": "stdout",
     "output_type": "stream",
     "text": [
      "{1, 2, 3, 4, 5}\n"
     ]
    }
   ],
   "source": [
    "# Set (Unordered Collection with Unique Elements)\n",
    "unique_numbers = {1, 2, 3, 3, 4, 5}\n",
    "print(unique_numbers) "
   ]
  },
  {
   "cell_type": "code",
   "execution_count": 74,
   "metadata": {},
   "outputs": [
    {
     "name": "stdout",
     "output_type": "stream",
     "text": [
      "Saniya\n",
      "{'name': 'Saniya', 'age': 20, 'course': 'Data Science'}\n"
     ]
    }
   ],
   "source": [
    "# Dictionary (Key-Value Pairs)\n",
    "student = {\"name\": \"Saniya\", \"age\": 19, \"course\": \"Data Science\"}\n",
    "print(student[\"name\"])  \n",
    "student[\"age\"] = 20    \n",
    "print(student)          "
   ]
  },
  {
   "cell_type": "code",
   "execution_count": 75,
   "metadata": {},
   "outputs": [
    {
     "name": "stdout",
     "output_type": "stream",
     "text": [
      "You are an adult.\n"
     ]
    }
   ],
   "source": [
    "# Conditional Statements (if-elif-else)\n",
    "age = 20\n",
    "\n",
    "if age < 18:\n",
    "    print(\"You are a minor.\")\n",
    "elif age >= 18 and age < 60:\n",
    "    print(\"You are an adult.\")\n",
    "else:\n",
    "    print(\"You are a senior citizen.\")\n"
   ]
  },
  {
   "cell_type": "code",
   "execution_count": 76,
   "metadata": {},
   "outputs": [
    {
     "name": "stdout",
     "output_type": "stream",
     "text": [
      "Apple\n",
      "Banana\n",
      "Cherry\n"
     ]
    }
   ],
   "source": [
    "# For Loop\n",
    "# Looping through a list\n",
    "fruits = [\"Apple\", \"Banana\", \"Cherry\"]\n",
    "i = [\"1\",\"2\",\"3\"]\n",
    "for i,fruit in zip(i,fruits):\n",
    "  print(fruit)\n",
    "\n"
   ]
  },
  {
   "cell_type": "code",
   "execution_count": 77,
   "metadata": {},
   "outputs": [
    {
     "name": "stdout",
     "output_type": "stream",
     "text": [
      "0\n",
      "1\n",
      "2\n",
      "3\n",
      "4\n",
      "5\n",
      "6\n",
      "7\n",
      "8\n",
      "9\n"
     ]
    }
   ],
   "source": [
    "for number in range(10):\n",
    "  print(number)"
   ]
  },
  {
   "cell_type": "code",
   "execution_count": 78,
   "metadata": {},
   "outputs": [
    {
     "name": "stdout",
     "output_type": "stream",
     "text": [
      "1\n",
      "3\n",
      "5\n",
      "7\n",
      "9\n",
      "11\n",
      "13\n",
      "15\n",
      "17\n",
      "19\n"
     ]
    }
   ],
   "source": [
    "for number in range(1, 20, 2):\n",
    "  print(number)"
   ]
  },
  {
   "cell_type": "code",
   "execution_count": 79,
   "metadata": {},
   "outputs": [
    {
     "name": "stdout",
     "output_type": "stream",
     "text": [
      "10\n",
      "9\n",
      "8\n",
      "7\n",
      "6\n",
      "5\n",
      "4\n",
      "3\n",
      "2\n",
      "1\n",
      "0\n"
     ]
    }
   ],
   "source": [
    "for number in range(10, -1, -1):\n",
    "  print(number)"
   ]
  },
  {
   "cell_type": "code",
   "execution_count": 80,
   "metadata": {},
   "outputs": [
    {
     "name": "stdout",
     "output_type": "stream",
     "text": [
      "10\n",
      "8\n",
      "6\n",
      "4\n",
      "2\n",
      "0\n"
     ]
    }
   ],
   "source": [
    "for number in range(10, -1, -2):\n",
    "  print(number)"
   ]
  },
  {
   "cell_type": "code",
   "execution_count": 81,
   "metadata": {},
   "outputs": [
    {
     "name": "stdout",
     "output_type": "stream",
     "text": [
      "The given end limit is : 10\n",
      "THe data type of this variable is <class 'int'>\n",
      "The Natural numbers as per the  given limit is\n",
      "0\n",
      "1\n",
      "2\n",
      "3\n",
      "4\n",
      "5\n",
      "6\n",
      "7\n",
      "8\n",
      "9\n",
      "10\n"
     ]
    }
   ],
   "source": [
    "# WAP to print Natural numbers (i.e. 1, 2, 3, …). Take the input from the user to limit the numbers.\n",
    "\n",
    "end_limit = int(input(\"Enter the end limit for the natural number: \"))\n",
    "print(f\"The given end limit is : {end_limit}\")\n",
    "print(f\"THe data type of this variable is {type(end_limit)}\")\n",
    "\n",
    "print(\"The Natural numbers as per the  given limit is\")\n",
    "for number in range(end_limit+1):\n",
    "  print(number)"
   ]
  },
  {
   "cell_type": "code",
   "execution_count": 82,
   "metadata": {},
   "outputs": [
    {
     "name": "stdout",
     "output_type": "stream",
     "text": [
      "Count: 1\n",
      "Count: 2\n",
      "Count: 3\n",
      "Count: 4\n",
      "Count: 5\n"
     ]
    }
   ],
   "source": [
    "# While Loop\n",
    "count = 1\n",
    "while count <= 5:\n",
    "    print(\"Count:\", count)\n",
    "    count += 1"
   ]
  },
  {
   "cell_type": "code",
   "execution_count": 83,
   "metadata": {},
   "outputs": [
    {
     "name": "stdout",
     "output_type": "stream",
     "text": [
      "1\n",
      "2\n",
      "3\n",
      "4\n"
     ]
    }
   ],
   "source": [
    "# Break Statement\n",
    "for num in range(1, 10):\n",
    "    if num == 5:\n",
    "        break  # Stops the loop when num is 5\n",
    "    print(num)"
   ]
  },
  {
   "cell_type": "code",
   "execution_count": 84,
   "metadata": {},
   "outputs": [
    {
     "name": "stdout",
     "output_type": "stream",
     "text": [
      "1\n",
      "2\n",
      "4\n",
      "5\n"
     ]
    }
   ],
   "source": [
    "# Continue Statement\n",
    "for num in range(1, 6):\n",
    "    if num == 3:\n",
    "        continue  # Skips number 3\n",
    "    print(num)"
   ]
  },
  {
   "cell_type": "code",
   "execution_count": 85,
   "metadata": {},
   "outputs": [
    {
     "name": "stdout",
     "output_type": "stream",
     "text": [
      "1\n",
      "2\n",
      "3\n",
      "4\n",
      "5\n"
     ]
    }
   ],
   "source": [
    "# Pass Statement\n",
    "for num in range(1, 6):\n",
    "    if num == 3:\n",
    "        pass  # Does nothing, used as a placeholder\n",
    "    print(num)"
   ]
  },
  {
   "cell_type": "code",
   "execution_count": 86,
   "metadata": {},
   "outputs": [
    {
     "name": "stdout",
     "output_type": "stream",
     "text": [
      "Hello, Saniya!\n"
     ]
    }
   ],
   "source": [
    "# Defining a Function\n",
    "def greet(name):\n",
    "    return f\"Hello, {name}!\"\n",
    "print(greet(\"Saniya\"))"
   ]
  },
  {
   "cell_type": "code",
   "execution_count": 87,
   "metadata": {},
   "outputs": [
    {
     "name": "stdout",
     "output_type": "stream",
     "text": [
      "Hello, Guest!\n",
      "Hello, Saniya!\n"
     ]
    }
   ],
   "source": [
    "# Function with Default Parameter\n",
    "def greet(name=\"Guest\"):\n",
    "    return f\"Hello, {name}!\"\n",
    "\n",
    "print(greet())         \n",
    "print(greet(\"Saniya\"))"
   ]
  },
  {
   "cell_type": "code",
   "execution_count": 88,
   "metadata": {},
   "outputs": [
    {
     "name": "stdout",
     "output_type": "stream",
     "text": [
      "25\n"
     ]
    }
   ],
   "source": [
    "# Lambda Function\n",
    "square = lambda x: x * x\n",
    "print(square(5))"
   ]
  }
 ],
 "metadata": {
  "kernelspec": {
   "display_name": "Python 3",
   "language": "python",
   "name": "python3"
  },
  "language_info": {
   "codemirror_mode": {
    "name": "ipython",
    "version": 3
   },
   "file_extension": ".py",
   "mimetype": "text/x-python",
   "name": "python",
   "nbconvert_exporter": "python",
   "pygments_lexer": "ipython3",
   "version": "3.13.1"
  }
 },
 "nbformat": 4,
 "nbformat_minor": 2
}
