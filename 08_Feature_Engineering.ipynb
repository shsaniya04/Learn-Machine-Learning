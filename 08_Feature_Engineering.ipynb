{
  "nbformat": 4,
  "nbformat_minor": 0,
  "metadata": {
    "colab": {
      "provenance": [],
      "authorship_tag": "ABX9TyN3qbGj3ZIZ3JJ204O42iUc",
      "include_colab_link": true
    },
    "kernelspec": {
      "name": "python3",
      "display_name": "Python 3"
    },
    "language_info": {
      "name": "python"
    }
  },
  "cells": [
    {
      "cell_type": "markdown",
      "metadata": {
        "id": "view-in-github",
        "colab_type": "text"
      },
      "source": [
        "<a href=\"https://colab.research.google.com/github/shsaniya04/Learn-Machine-Learning/blob/main/08_Feature_Engineering.ipynb\" target=\"_parent\"><img src=\"https://colab.research.google.com/assets/colab-badge.svg\" alt=\"Open In Colab\"/></a>"
      ]
    },
    {
      "cell_type": "markdown",
      "source": [
        "**A. Feature Engineering - Feature Transformation**"
      ],
      "metadata": {
        "id": "jAaYy8UNTdJO"
      }
    },
    {
      "cell_type": "markdown",
      "source": [
        "1. Missing Value Imputation\n",
        "\n",
        "Imputed value, also known as estimated imputation, is an assumed value\n",
        "given to an item when the actual value is not known or available."
      ],
      "metadata": {
        "id": "Qgnm3k7KTmPY"
      }
    },
    {
      "cell_type": "markdown",
      "source": [
        "2. Handling Categorical Value\n",
        "\n",
        "One of the most common ways to deal with categorical data in machine\n",
        "learning is through a process called one-hot encoding.\n",
        "This technique involves converting categorical data into numerical data by c reating a new binary feature for each category."
      ],
      "metadata": {
        "id": "9ya1pnVWUI3e"
      }
    },
    {
      "cell_type": "markdown",
      "source": [
        "3. Outlier Detection\n",
        "\n",
        "Outlier detection is the process of detecting outliers, or a data point that is\n",
        "far away from the average, and depending on what you are trying to\n",
        "accomplish, potentially removing or resolving them from the analysis to\n",
        "prevent any potential skewing."
      ],
      "metadata": {
        "id": "hlTxt_-CUJuM"
      }
    },
    {
      "cell_type": "markdown",
      "source": [
        "4. Feature Scaling\n",
        "\n",
        "Feature scaling is a method used to normalize the range of independent\n",
        "variables or features of data. In data processing, it is also known as data\n",
        "normalization and is generally performed during the data pre-processing\n",
        "step."
      ],
      "metadata": {
        "id": "OwNCnz3gUKD-"
      }
    },
    {
      "cell_type": "markdown",
      "source": [
        "**B. Feature Engineering - Feature Construction**"
      ],
      "metadata": {
        "id": "sbBP7S_1Uf1u"
      }
    },
    {
      "cell_type": "markdown",
      "source": [
        "**C. Feature Engineering - Feature Selection**"
      ],
      "metadata": {
        "id": "adpBlQuJXI_q"
      }
    },
    {
      "cell_type": "markdown",
      "source": [
        "Feature selection is the process of reducing the number of input variables\n",
        "when developing a predictive model.\n",
        "It is desirable to reduce the number of input variables to both reduce the\n",
        "computational cost of modelling and, in some cases, to improve the\n",
        "performance of the model."
      ],
      "metadata": {
        "id": "dbtBF4AnXdLm"
      }
    },
    {
      "cell_type": "markdown",
      "source": [
        "**D. Feature Engineering - Feature Extraction**"
      ],
      "metadata": {
        "id": "JazncoKvXJgB"
      }
    },
    {
      "cell_type": "markdown",
      "source": [
        "Feature extraction refers to the process of transforming raw data into\n",
        "numerical features that can be processed while preserving the information\n",
        "in the original data set. It yields better results than applying machine\n",
        "learning directly to the raw data."
      ],
      "metadata": {
        "id": "wFlXw7pjXlEf"
      }
    }
  ]
}