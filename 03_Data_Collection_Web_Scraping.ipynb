{
  "nbformat": 4,
  "nbformat_minor": 0,
  "metadata": {
    "colab": {
      "provenance": [],
      "authorship_tag": "ABX9TyONAsuXVy6r0cR/YgT7juc3",
      "include_colab_link": true
    },
    "kernelspec": {
      "name": "python3",
      "display_name": "Python 3"
    },
    "language_info": {
      "name": "python"
    }
  },
  "cells": [
    {
      "cell_type": "markdown",
      "metadata": {
        "id": "view-in-github",
        "colab_type": "text"
      },
      "source": [
        "<a href=\"https://colab.research.google.com/github/shsaniya04/Learn-Machine-Learning/blob/main/03_Data_Collection_Web_Scraping.ipynb\" target=\"_parent\"><img src=\"https://colab.research.google.com/assets/colab-badge.svg\" alt=\"Open In Colab\"/></a>"
      ]
    },
    {
      "cell_type": "markdown",
      "source": [
        "**Import Libraries**"
      ],
      "metadata": {
        "id": "tPSuqPqpvSOm"
      }
    },
    {
      "cell_type": "code",
      "execution_count": 60,
      "metadata": {
        "id": "W5OPOAyDvGCz"
      },
      "outputs": [],
      "source": [
        "import pandas as pd\n",
        "import requests\n",
        "from bs4 import BeautifulSoup"
      ]
    },
    {
      "cell_type": "markdown",
      "source": [
        "**Add Webpage / Website**"
      ],
      "metadata": {
        "id": "XIKur8KIvWxT"
      }
    },
    {
      "cell_type": "code",
      "source": [
        "headers = {'User-Agent':'Mozilla/5.0 (Windows NT 6.3; Win 64 ; x64) Apple WeKit /537.36(KHTML , like Gecko) Chrome/80.0.3987.162 Safari/537.36'}\n",
        "webpage = requests.get('https://www.imdb.com/chart/top/',headers=headers).text"
      ],
      "metadata": {
        "id": "vEZ1QKAYvjeV"
      },
      "execution_count": 61,
      "outputs": []
    },
    {
      "cell_type": "markdown",
      "source": [
        "**Define “Soup” as BeautifulSoup Library**"
      ],
      "metadata": {
        "id": "Q22FR1RKv82b"
      }
    },
    {
      "cell_type": "code",
      "source": [
        "soup = BeautifulSoup(webpage,'lxml')"
      ],
      "metadata": {
        "id": "MJg7intxwFhZ"
      },
      "execution_count": 62,
      "outputs": []
    },
    {
      "cell_type": "markdown",
      "source": [
        "**Print**"
      ],
      "metadata": {
        "id": "aJDLGANKwGaF"
      }
    },
    {
      "cell_type": "code",
      "source": [
        "# print(soup.prettify())"
      ],
      "metadata": {
        "id": "WlVD3QKnwMTy"
      },
      "execution_count": 63,
      "outputs": []
    },
    {
      "cell_type": "markdown",
      "source": [
        "**Extract the heading line**"
      ],
      "metadata": {
        "id": "G8XPM4220gkn"
      }
    },
    {
      "cell_type": "code",
      "source": [
        "for n in soup.find_all('h1'):\n",
        "  print(n.text.strip())"
      ],
      "metadata": {
        "colab": {
          "base_uri": "https://localhost:8080/"
        },
        "id": "ocFwqUsT0cQe",
        "outputId": "d09d0688-6198-4d02-e446-7d1408b946b5"
      },
      "execution_count": 64,
      "outputs": [
        {
          "output_type": "stream",
          "name": "stdout",
          "text": [
            "IMDb Top 250 Movies\n"
          ]
        }
      ]
    },
    {
      "cell_type": "markdown",
      "source": [
        "**Extracting Movie Name**"
      ],
      "metadata": {
        "id": "9jKTCGl-1xCn"
      }
    },
    {
      "cell_type": "code",
      "source": [
        "for i in soup.find_all('h3',class_ = 'ipc-title__text'):\n",
        "  print(i.text.strip())"
      ],
      "metadata": {
        "colab": {
          "base_uri": "https://localhost:8080/"
        },
        "id": "KZZ0HcWx0cOC",
        "outputId": "ee0e18f6-0239-41fe-ec51-cc80dd4bacc1"
      },
      "execution_count": 65,
      "outputs": [
        {
          "output_type": "stream",
          "name": "stdout",
          "text": [
            "IMDb Charts\n",
            "1. The Shawshank Redemption\n",
            "2. The Godfather\n",
            "3. The Dark Knight\n",
            "4. The Godfather Part II\n",
            "5. 12 Angry Men\n",
            "6. The Lord of the Rings: The Return of the King\n",
            "7. Schindler's List\n",
            "8. Pulp Fiction\n",
            "9. The Lord of the Rings: The Fellowship of the Ring\n",
            "10. The Good, the Bad and the Ugly\n",
            "11. Forrest Gump\n",
            "12. The Lord of the Rings: The Two Towers\n",
            "13. Fight Club\n",
            "14. Inception\n",
            "15. Star Wars: Episode V - The Empire Strikes Back\n",
            "16. The Matrix\n",
            "17. Goodfellas\n",
            "18. Interstellar\n",
            "19. One Flew Over the Cuckoo's Nest\n",
            "20. Se7en\n",
            "21. It's a Wonderful Life\n",
            "22. The Silence of the Lambs\n",
            "23. Seven Samurai\n",
            "24. Saving Private Ryan\n",
            "25. City of God\n",
            "Recently viewed\n"
          ]
        }
      ]
    },
    {
      "cell_type": "markdown",
      "source": [
        "**Extracting Rating**"
      ],
      "metadata": {
        "id": "0gGrgZCu2b6y"
      }
    },
    {
      "cell_type": "code",
      "source": [
        "for k in soup.find_all('span', class_ = 'ipc-rating-star--rating'):\n",
        "  print(k.text.strip())"
      ],
      "metadata": {
        "colab": {
          "base_uri": "https://localhost:8080/"
        },
        "id": "fNrFRouU2bhs",
        "outputId": "c5d33810-ae74-49d5-cdc4-c16f18576c05"
      },
      "execution_count": 66,
      "outputs": [
        {
          "output_type": "stream",
          "name": "stdout",
          "text": [
            "9.3\n",
            "9.2\n",
            "9.0\n",
            "9.0\n",
            "9.0\n",
            "9.0\n",
            "9.0\n",
            "8.9\n",
            "8.9\n",
            "8.8\n",
            "8.8\n",
            "8.8\n",
            "8.8\n",
            "8.8\n",
            "8.7\n",
            "8.7\n",
            "8.7\n",
            "8.7\n",
            "8.7\n",
            "8.6\n",
            "8.6\n",
            "8.6\n",
            "8.6\n",
            "8.6\n",
            "8.6\n"
          ]
        }
      ]
    },
    {
      "cell_type": "markdown",
      "source": [
        "**Extract all card details**"
      ],
      "metadata": {
        "id": "fZaXiuRV6Imf"
      }
    },
    {
      "cell_type": "code",
      "source": [
        "for l in soup.find_all('span', class_ = 'sc-5179a348-7 idrYgr cli-title-metadata-item'):\n",
        "    print(l.text.strip())"
      ],
      "metadata": {
        "colab": {
          "base_uri": "https://localhost:8080/"
        },
        "id": "qO3bDe-G0cLK",
        "outputId": "ae62f772-dfdc-4f81-9941-2b2039fd5b49"
      },
      "execution_count": 67,
      "outputs": [
        {
          "output_type": "stream",
          "name": "stdout",
          "text": [
            "1994\n",
            "2h 22m\n",
            "R\n",
            "1972\n",
            "2h 55m\n",
            "R\n",
            "2008\n",
            "2h 32m\n",
            "PG-13\n",
            "1974\n",
            "3h 22m\n",
            "R\n",
            "1957\n",
            "1h 36m\n",
            "Approved\n",
            "2003\n",
            "3h 21m\n",
            "PG-13\n",
            "1993\n",
            "3h 15m\n",
            "R\n",
            "1994\n",
            "2h 34m\n",
            "R\n",
            "2001\n",
            "2h 58m\n",
            "PG-13\n",
            "1966\n",
            "2h 58m\n",
            "R\n",
            "1994\n",
            "2h 22m\n",
            "PG-13\n",
            "2002\n",
            "2h 59m\n",
            "PG-13\n",
            "1999\n",
            "2h 19m\n",
            "R\n",
            "2010\n",
            "2h 28m\n",
            "PG-13\n",
            "1980\n",
            "2h 4m\n",
            "PG\n",
            "1999\n",
            "2h 16m\n",
            "R\n",
            "1990\n",
            "2h 25m\n",
            "R\n",
            "2014\n",
            "2h 49m\n",
            "PG-13\n",
            "1975\n",
            "2h 13m\n",
            "R\n",
            "1995\n",
            "2h 7m\n",
            "R\n",
            "1946\n",
            "2h 10m\n",
            "PG\n",
            "1991\n",
            "1h 58m\n",
            "R\n",
            "1954\n",
            "3h 27m\n",
            "Not Rated\n",
            "1998\n",
            "2h 49m\n",
            "R\n",
            "2002\n",
            "2h 10m\n",
            "R\n"
          ]
        }
      ]
    }
  ]
}